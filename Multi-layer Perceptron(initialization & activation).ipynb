{
 "cells": [
  {
   "cell_type": "code",
   "execution_count": 318,
   "metadata": {},
   "outputs": [],
   "source": [
    "import numpy as np\n",
    "from tqdm import tqdm_notebook\n",
    "from sklearn.metrics import log_loss,accuracy_score\n",
    "from sklearn.datasets import make_blobs,make_moons\n",
    "from sklearn.model_selection import train_test_split\n",
    "from sklearn.preprocessing import OneHotEncoder\n",
    "import matplotlib.pyplot as plt\n",
    "import matplotlib.colors"
   ]
  },
  {
   "cell_type": "markdown",
   "metadata": {},
   "source": [
    "#  Sample Data"
   ]
  },
  {
   "cell_type": "code",
   "execution_count": 321,
   "metadata": {},
   "outputs": [
    {
     "name": "stdout",
     "output_type": "stream",
     "text": [
      "(1000, 2) (1000,)\n"
     ]
    }
   ],
   "source": [
    "data,labels = make_moons(n_samples=1000,random_state=0)\n",
    "print(data.shape,labels.shape)"
   ]
  },
  {
   "cell_type": "markdown",
   "metadata": {},
   "source": [
    "# Color Map"
   ]
  },
  {
   "cell_type": "code",
   "execution_count": 322,
   "metadata": {},
   "outputs": [],
   "source": [
    "my_cmap = matplotlib.colors.LinearSegmentedColormap.from_list(\"\",[\"red\",\"yellow\",\"green\"])"
   ]
  },
  {
   "cell_type": "code",
   "execution_count": 323,
   "metadata": {},
   "outputs": [
    {
     "data": {
      "image/png": "[encoded data removed]",
      "text/plain": [
       "<Figure size 576x396 with 1 Axes>"
      ]
     },
     "metadata": {},
     "output_type": "display_data"
    }
   ],
   "source": [
    "plt.style.use('seaborn')\n",
    "plt.scatter(data[:,0],data[:,1],c=labels,cmap=my_cmap)\n",
    "plt.show()"
   ]
  },
  {
   "cell_type": "markdown",
   "metadata": {},
   "source": [
    "# Train-Test-Split"
   ]
  },
  {
   "cell_type": "code",
   "execution_count": 324,
   "metadata": {},
   "outputs": [
    {
     "name": "stdout",
     "output_type": "stream",
     "text": [
      "(750, 2) (750,) (250, 2) (250,)\n"
     ]
    }
   ],
   "source": [
    "X_train,X_val,Y_train,Y_val = train_test_split(data,labels,stratify=labels,random_state=0)\n",
    "print(X_train.shape,Y_train.shape,X_val.shape,Y_val.shape)"
   ]
  },
  {
   "cell_type": "markdown",
   "metadata": {},
   "source": [
    "# One hot encoding of Y_train"
   ]
  },
  {
   "cell_type": "code",
   "execution_count": 325,
   "metadata": {},
   "outputs": [
    {
     "name": "stdout",
     "output_type": "stream",
     "text": [
      "(750, 2)\n"
     ]
    },
    {
     "name": "stderr",
     "output_type": "stream",
     "text": [
      "/home/akansh/anaconda3/lib/python3.7/site-packages/sklearn/preprocessing/_encoders.py:415: FutureWarning: The handling of integer data will change in version 0.22. Currently, the categories are determined based on the range [0, max(values)], while in the future they will be determined based on the unique values.\n",
      "If you want the future behaviour and silence this warning, you can specify \"categories='auto'\".\n",
      "In case you used a LabelEncoder before this OneHotEncoder to convert the categories to integers, then you can now use the OneHotEncoder directly.\n",
      "  warnings.warn(msg, FutureWarning)\n"
     ]
    }
   ],
   "source": [
    "enc = OneHotEncoder()\n",
    "Y_train_one_hot = enc.fit_transform(np.expand_dims(Y_train,1)).toarray()\n",
    "print(Y_train_one_hot.shape)"
   ]
  },
  {
   "cell_type": "code",
   "execution_count": 326,
   "metadata": {},
   "outputs": [
    {
     "data": {
      "text/plain": [
       "array([[1., 0.],\n",
       "       [0., 1.],\n",
       "       [0., 1.],\n",
       "       ...,\n",
       "       [0., 1.],\n",
       "       [1., 0.],\n",
       "       [1., 0.]])"
      ]
     },
     "execution_count": 326,
     "metadata": {},
     "output_type": "execute_result"
    }
   ],
   "source": [
    "Y_train_one_hot"
   ]
  },
  {
   "cell_type": "markdown",
   "metadata": {},
   "source": [
    "# Multi-Layer-Perceptron/Feed Forward Nueral Network Class\n",
    "## With optimizers : Momentum , AdaGrad, RMSProp, Adam"
   ]
  },
  {
   "cell_type": "code",
   "execution_count": 327,
   "metadata": {},
   "outputs": [],
   "source": [
    "class Nueral_Network:\n",
    "\n",
    "    def __init__(self,hidden_layer=[2,2,2,2],output_layer=4,num_layers = 3,init_algo = 'random',activation='sigmoid'):\n",
    "        np.random.seed(0)\n",
    "        self.activation = activation\n",
    "        self.params = {}\n",
    "        self.leaky_slope = 0.1\n",
    "        self.update_params = {}\n",
    "        self.gradients = {}\n",
    "        self.num_layers = num_layers\n",
    "        \n",
    "        if(init_algo == 'random'):\n",
    "            for i in range(1,num_layers + 1):\n",
    "                self.params['W' + str(i)] = np.random.randn(hidden_layer[i-1],hidden_layer[i])\n",
    "                self.params['B' + str(i)] = np.random.randn(1,hidden_layer[i])\n",
    "        elif(init_algo == 'zero'):\n",
    "            for i in range(1,num_layers + 1):\n",
    "                self.params['W' + str(i)] = np.zeros((hidden_layer[i-1],hidden_layer[i]))\n",
    "                self.params['B' + str(i)] = np.zeros((1,hidden_layer[i]))\n",
    "        elif(init_algo == 'xavier'):\n",
    "            for i in range(1,num_layers + 1):\n",
    "                self.params['W' + str(i)] = np.random.randn(hidden_layer[i-1],hidden_layer[i])*np.sqrt(1/hidden_layer[i-1])\n",
    "                self.params['B' + str(i)] = np.random.randn(1,hidden_layer[i])\n",
    "        elif(init_algo == 'he'):\n",
    "            for i in range(1,num_layers + 1):\n",
    "                self.params['W' + str(i)] = np.random.randn(hidden_layer[i-1],hidden_layer[i])*np.sqrt(2/hidden_layer[i-1])\n",
    "                self.params['B' + str(i)] = np.random.randn(1,hidden_layer[i])\n",
    "        \n",
    "            \n",
    "        for i in range(1,num_layers+1):\n",
    "            self.update_params['v_w' + str(i)] = 0\n",
    "            self.update_params['v_b' + str(i)] = 0\n",
    "            self.update_params['m_w' + str(i)] = 0\n",
    "            self.update_params['m_b' + str(i)] = 0\n",
    "            \n",
    "    \n",
    "    def forward_activation(self,X):\n",
    "        \n",
    "        if(self.activation == 'sigmoid'):\n",
    "            return(1.0/(1.0 + np.exp(-X)))\n",
    "        elif(self.activation == 'tanh'):\n",
    "            return(np.tanh(X))\n",
    "        elif(self.activation == 'relu'):\n",
    "            return(np.maximum(0,X))\n",
    "        elif(self.activation == 'leaky relu'):\n",
    "            return(np.maximum(self.leaky_slope * X,X))\n",
    "    \n",
    "    def grad_activation(self,X):\n",
    "        if(self.activation == 'sigmoid'):\n",
    "            return(X * (1-X))\n",
    "        elif(self.activation == 'tanh'):\n",
    "            return(1-np.square(X))\n",
    "        elif(self.activation == 'relu'):\n",
    "            return(1.0 * (X>0))\n",
    "\n",
    "        elif(self.activation == 'leaky relu'):\n",
    "            d = np.zeros_like(X)\n",
    "            d[X<=0] = self.leaky_slope\n",
    "            d[X>0] = 1.0\n",
    "            return d\n",
    "            \n",
    "    \n",
    "    def softmax(self,X):\n",
    "        exps = np.exp(X) # (N,2)\n",
    "        sums_exp = np.sum(exps,axis=1).reshape(-1,1) #(N,1)\n",
    "        return(exps/sums_exp) #(N,2) / (N,1) --> (N,2)\n",
    "        \n",
    "    \n",
    "    def forward_pass(self,X):\n",
    "        \n",
    "        # Layer 1(Hidden)\n",
    "        self.params['A1'] = np.matmul(X,self.params['W1']) + self.params['B1'] #(N,2) * (2,4)-->(N,4) + (N,4)\n",
    "        self.params['H1'] = self.forward_activation(self.params['A1']) # (N,4)\n",
    "        \n",
    "        #Layer 2(Hidden)\n",
    "        self.params['A2'] = np.matmul(self.params['H1'],self.params['W2']) + self.params['B2'] #(N,4) * (4,3)-->(N,3)\n",
    "        self.params['H2'] = self.forward_activation(self.params['A2']) #(N,3)\n",
    "        \n",
    "        #Layer 3(Output)\n",
    "        self.params['A3'] = np.matmul(self.params['H2'],self.params['W3']) + self.params['B3'] #(N,3) * (3,2)-->(N,2)\n",
    "        self.params['H3'] = self.softmax(self.params['A3']) #(N,2)\n",
    "        \n",
    "        return(self.params['H3']) #(N,2)\n",
    "    \n",
    "    def grad(self,X,Y):\n",
    "        \n",
    "        self.forward_pass(X)\n",
    "        \n",
    "        #Layer 3\n",
    "        self.gradients['dA3'] = self.params['H3'] - Y #(N,2) - (N,2) -->(N,2)\n",
    "        self.gradients['dW3'] = np.matmul(self.params['H2'].T,self.gradients['dA3']) # (3,N) * (N,2) -->(3,2)\n",
    "        self.gradients['dB3'] = np.sum(self.gradients['dA3'],axis=0).reshape(1,-1) \n",
    "        \n",
    "        #Layer 2 \n",
    "        self.gradients['dH2'] = np.matmul(self.gradients['dA3'],self.params['W3'].T) #(N,2) * (2,3) -- >(N,3)\n",
    "        self.gradients['dA2'] = np.multiply(self.gradients['dH2'],self.grad_activation(self.params['H2'])) #(N,3) * (N,3)-->(N,3)\n",
    "        self.gradients['dW2'] = np.matmul(self.params['H1'].T,self.gradients['dA2']) #(4,N) * (N,3)   --> (4,3)\n",
    "        self.gradients['dB2'] = np.sum(self.gradients['dA2'],axis=0).reshape(1,-1)\n",
    "        \n",
    "        #Layer 1\n",
    "        self.gradients['dH1'] = np.matmul(self.gradients['dA2'],self.params['W2'].T) #(N,3) * (3,4) -->(N,4)\n",
    "        self.gradients['dA1'] = np.multiply(self.gradients['dH1'],self.grad_activation(self.params['H1'])) #(N,4) * (N,4)\n",
    "        self.gradients['dW1'] = np.matmul(X.T,self.gradients['dA1']) #(2,N) * (N,4) -->(2,4)\n",
    "        self.gradients['dB1'] = np.sum(self.gradients['dA1'],axis=0).reshape(1,-1)\n",
    "        \n",
    "    def fit(self,X,Y,epochs=1,eta=1,display_loss = False,algo='GD',gamma=0.8,eps = 1e-8,beta = 0.8,beta1=0.8,beta2=0.8):\n",
    "        \n",
    "        if(display_loss):\n",
    "            loss = {}\n",
    "        \n",
    "        for epoch in tqdm_notebook(range(epochs),unit=\"epoch\",total=epochs):\n",
    "            \n",
    "            if(algo == 'GD'):\n",
    "            \n",
    "                self.grad(X,Y)\n",
    "\n",
    "                m = X.shape[0]\n",
    "                \n",
    "                self.params['W1'] -= eta * (self.gradients['dW1']/m)\n",
    "                self.params['W2'] -= eta * (self.gradients['dW2']/m)\n",
    "                self.params['W3'] -= eta * (self.gradients['dW3']/m)\n",
    "                self.params['B1'] -= eta * (self.gradients['dB1']/m)\n",
    "                self.params['B2'] -= eta * (self.gradients['dB2']/m)\n",
    "                self.params['B3'] -= eta * (self.gradients['dB3']/m)\n",
    "\n",
    "                Y_pred = self.predict(X)\n",
    "                loss[epoch] = log_loss(np.argmax(Y,axis=1),Y_pred)\n",
    "            \n",
    "            elif(algo == 'Momentum'):\n",
    "                self.grad(X,Y)\n",
    "                m = X.shape[0]\n",
    "                \n",
    "                for i in range(1,self.num_layers+1):\n",
    "                \n",
    "                    self.update_params['v_w' + str(i)] = gamma*self.update_params['v_w' + str(i)] + eta * (self.gradients['dW' + str(i)])/m\n",
    "                    self.update_params['v_b' + str(i)] = gamma*self.update_params['v_b' + str(i)] + eta * (self.gradients['dB' + str(i)])/m\n",
    "                    self.params['W' + str(i)] -= self.update_params['v_w' + str(i)]\n",
    "                    self.params['B' + str(i)] -= self.update_params['v_b' + str(i)]\n",
    "                \n",
    "                Y_pred = self.predict(X)\n",
    "                loss[epoch] = log_loss(np.argmax(Y,axis=1),Y_pred)\n",
    "            \n",
    "            elif(algo == 'AdaGrad'):\n",
    "                self.grad(X,Y)\n",
    "                m = X.shape[0]\n",
    "                \n",
    "                for i in range(1,self.num_layers+1):\n",
    "                    \n",
    "                    self.update_params['v_w' + str(i)] = self.update_params['v_w' + str(i)] + ((self.gradients['dW' + str(i)]/m) ** 2)\n",
    "                    self.update_params['v_b' + str(i)] = self.update_params['v_b' + str(i)] + ((self.gradients['dB' + str(i)]/m) ** 2)\n",
    "                    self.params['W' + str(i)] -= (eta/np.sqrt(self.update_params['v_w' + str(i)]+eps)) * self.gradients['dW' + str(i)]/m\n",
    "                    self.params['B' + str(i)] -= (eta/np.sqrt(self.update_params['v_b' + str(i)]+eps)) * self.gradients['dB' + str(i)]/m\n",
    "                \n",
    "                Y_pred = self.predict(X)\n",
    "                loss[epoch] = log_loss(np.argmax(Y,axis=1),Y_pred)\n",
    "            \n",
    "            elif(algo == 'RMSProp'):\n",
    "                self.grad(X,Y)\n",
    "                m = X.shape[0]\n",
    "                \n",
    "                for i in range(1,self.num_layers+1):\n",
    "                    \n",
    "                    self.update_params['v_w' + str(i)] = beta*self.update_params['v_w' + str(i)] + (1-beta)*((self.gradients['dW' + str(i)]/m) ** 2)\n",
    "                    self.update_params['v_b' + str(i)] = beta*self.update_params['v_b' + str(i)] + (1-beta)*((self.gradients['dB' + str(i)]/m) ** 2)\n",
    "                    self.params['W' + str(i)] -= (eta/np.sqrt(self.update_params['v_w' + str(i)]+eps)) * self.gradients['dW' + str(i)]/m\n",
    "                    self.params['B' + str(i)] -= (eta/np.sqrt(self.update_params['v_b' + str(i)]+eps)) * self.gradients['dB' + str(i)]/m\n",
    "                    \n",
    "                Y_pred = self.predict(X)\n",
    "                loss[epoch] = log_loss(np.argmax(Y,axis=1),Y_pred)\n",
    "            \n",
    "            elif(algo == 'Adam'):\n",
    "                self.grad(X,Y)\n",
    "                m = X.shape[0]\n",
    "                num_updates = 0\n",
    "                for i in range(1,self.num_layers+1):\n",
    "                    num_updates+=1\n",
    "\n",
    "                    self.update_params['m_w' + str(i)] = beta1*self.update_params['m_w' + str(i)] + ((1-beta1) * self.gradients['dW' + str(i)]/m) \n",
    "                    self.update_params['m_b' + str(i)] = beta1*self.update_params['m_b' + str(i)] + ((1-beta1) * self.gradients['dB' + str(i)]/m) \n",
    "                    self.update_params['v_w' + str(i)] = beta2*self.update_params['v_w' + str(i)] + ((1-beta2) * ((self.gradients['dW' + str(i)]/m)**2))\n",
    "                    self.update_params['v_b' + str(i)] = beta2*self.update_params['v_b' + str(i)] + ((1-beta2) * ((self.gradients['dB' + str(i)]/m)**2))\n",
    "                    m_w_hat=self.update_params[\"m_w\"+str(i)]/(1-np.power(beta1,num_updates))\n",
    "                    v_w_hat=self.update_params[\"v_w\"+str(i)]/(1-np.power(beta2,num_updates))\n",
    "                    m_b_hat=self.update_params[\"m_b\"+str(i)]/(1-np.power(beta1,num_updates))\n",
    "                    v_b_hat=self.update_params[\"v_b\"+str(i)]/(1-np.power(beta2,num_updates))\n",
    "\n",
    "                    self.params['W' + str(i)] -= (eta/np.sqrt(v_w_hat + eps))* m_w_hat\n",
    "                    self.params['B' + str(i)] -= (eta/np.sqrt(v_b_hat + eps))* m_b_hat\n",
    "                \n",
    "                Y_pred = self.predict(X)\n",
    "                loss[epoch] = log_loss(np.argmax(Y,axis=1),Y_pred)\n",
    "                    \n",
    "                \n",
    "\n",
    "        if(display_loss):\n",
    "            plt.plot(list(loss.values()),'-o',markersize=5)\n",
    "            plt.xlabel('Epochs')\n",
    "            plt.ylabel('Log Loss')\n",
    "            plt.show()\n",
    "    \n",
    "    def predict(self,X):\n",
    "        Y_pred = []\n",
    "        return(np.asarray(self.forward_pass(X))) #(N,2)\n",
    "        \n",
    "        \n",
    "                            \n",
    "        \n",
    "        \n",
    "    "
   ]
  },
  {
   "cell_type": "markdown",
   "metadata": {},
   "source": [
    "# Model Running"
   ]
  },
  {
   "cell_type": "code",
   "execution_count": 353,
   "metadata": {},
   "outputs": [],
   "source": [
    "mlp = Nueral_Network(init_algo='xavier',activation='leaky relu')"
   ]
  },
  {
   "cell_type": "code",
   "execution_count": 354,
   "metadata": {},
   "outputs": [
    {
     "data": {
      "application/vnd.jupyter.widget-view+json": {
       "model_id": "7863b87632204eb48d9c31b5b31bdaeb",
       "version_major": 2,
       "version_minor": 0
      },
      "text/plain": [
       "HBox(children=(IntProgress(value=0, max=40), HTML(value='')))"
      ]
     },
     "metadata": {},
     "output_type": "display_data"
    },
    {
     "name": "stdout",
     "output_type": "stream",
     "text": [
      "\n"
     ]
    },
    {
     "data": {
      "image/png": "[encoded data removed]",
      "text/plain": [
       "<Figure size 576x396 with 1 Axes>"
      ]
     },
     "metadata": {},
     "output_type": "display_data"
    },
    {
     "name": "stdout",
     "output_type": "stream",
     "text": [
      "CPU times: user 300 ms, sys: 19.6 ms, total: 320 ms\n",
      "Wall time: 314 ms\n"
     ]
    }
   ],
   "source": [
    "%%time \n",
    "mlp.fit(X_train,Y_train_one_hot,display_loss=True,epochs=40,eta=0.25,beta=0.8,algo='Adam')"
   ]
  },
  {
   "cell_type": "code",
   "execution_count": 355,
   "metadata": {},
   "outputs": [
    {
     "data": {
      "text/plain": [
       "(750,)"
      ]
     },
     "execution_count": 355,
     "metadata": {},
     "output_type": "execute_result"
    }
   ],
   "source": [
    "Y_pred = mlp.predict(X_train)\n",
    "Y_pred_bin = np.argmax(Y_pred,axis=1)\n",
    "Y_pred_bin.shape\n"
   ]
  },
  {
   "cell_type": "markdown",
   "metadata": {},
   "source": [
    "# Training Accuracy"
   ]
  },
  {
   "cell_type": "code",
   "execution_count": 356,
   "metadata": {},
   "outputs": [
    {
     "name": "stdout",
     "output_type": "stream",
     "text": [
      "The training accuracy obtained is:93.33333333333333\n"
     ]
    }
   ],
   "source": [
    "accuracy_train = accuracy_score(Y_train.reshape(-1,1),Y_pred_bin)\n",
    "print(f'The training accuracy obtained is:{accuracy_train*100}')"
   ]
  },
  {
   "cell_type": "code",
   "execution_count": 339,
   "metadata": {},
   "outputs": [
    {
     "name": "stdout",
     "output_type": "stream",
     "text": [
      "(250,)\n"
     ]
    }
   ],
   "source": [
    "Y_pred = mlp.predict(X_val)\n",
    "Y_pred_bin_test = np.argmax(Y_pred,axis=1)\n",
    "\n",
    "print(Y_pred_bin_test.shape)"
   ]
  },
  {
   "cell_type": "markdown",
   "metadata": {},
   "source": [
    "# Testing Accuracy"
   ]
  },
  {
   "cell_type": "code",
   "execution_count": 340,
   "metadata": {},
   "outputs": [
    {
     "name": "stdout",
     "output_type": "stream",
     "text": [
      "The validation accuracy obtained is:91.60000000000001\n"
     ]
    }
   ],
   "source": [
    "accuracy_test = accuracy_score(Y_val.reshape(-1,1),Y_pred_bin_test)\n",
    "print(f'The validation accuracy obtained is:{accuracy_test*100}')"
   ]
  },
  {
   "cell_type": "markdown",
   "metadata": {},
   "source": [
    "# Compared optimizers for good intuition about these.\n",
    "### Not reproducable as they were done at time when random_state was not mentioned in train_test_split"
   ]
  },
  {
   "cell_type": "code",
   "execution_count": 401,
   "metadata": {},
   "outputs": [
    {
     "name": "stdout",
     "output_type": "stream",
     "text": [
      "GD ,epochs=100,eta=0.5,ACCURACY: 69\n",
      "Momentum ,epochs=100,eta=0.5,gamma=0.8,time:340ms,ACCURACY: 89\n",
      "AdaGrad ,epochs=100,eta=0.5,eps=1e-8,time:353ms,ACCURACY: 91.066\n",
      "RMSProp ,epochs=100,eta=0.5,eps=1e-8,time:346ms,ACCURACY: 89.866\n",
      "Adam ,epochs=100,eta=0.5,eps=1e-8,time:346ms,ACCURACY: 91.6\n"
     ]
    }
   ],
   "source": [
    "print(\"GD ,epochs=100,eta=0.5,ACCURACY:\",69)\n",
    "print(\"Momentum ,epochs=100,eta=0.5,gamma=0.8,time:340ms,ACCURACY:\",89)\n",
    "print(\"AdaGrad ,epochs=100,eta=0.5,eps=1e-8,time:353ms,ACCURACY:\",91.066)\n",
    "print(\"RMSProp ,epochs=100,eta=0.5,eps=1e-8,time:346ms,ACCURACY:\",89.866)\n",
    "print(\"Adam ,epochs=100,eta=0.5,eps=1e-8,time:346ms,ACCURACY:\",91.60)"
   ]
  },
  {
   "cell_type": "code",
   "execution_count": 402,
   "metadata": {},
   "outputs": [
    {
     "name": "stdout",
     "output_type": "stream",
     "text": [
      "GD ,epochs=1000,eta=0.15,time:1.53 s,ACCURACY: 92.8\n",
      "Momentum ,epochs=1000,eta=0.15,gamma=0.8,time:1.43s,ACCURACY: 92.93\n",
      "AdaGrad ,epochs=1000,eta=0.15,eps=1e-8,time:353ms,ACCURACY: 93.2\n",
      "RMSProp ,epochs=1000,eta=0.15,eps=1e-8,time:1.52s,ACCURACY: 92.6\n",
      "Adam ,epochs=1000,eta=0.15,eps=1e-8,time:1.75s,ACCURACY: 94.3\n"
     ]
    }
   ],
   "source": [
    "print(\"GD ,epochs=1000,eta=0.15,time:1.53 s,ACCURACY:\",92.8)\n",
    "print(\"Momentum ,epochs=1000,eta=0.15,gamma=0.8,time:1.43s,ACCURACY:\",92.93)\n",
    "print(\"AdaGrad ,epochs=1000,eta=0.15,eps=1e-8,time:353ms,ACCURACY:\",93.2)\n",
    "print(\"RMSProp ,epochs=1000,eta=0.15,eps=1e-8,time:1.52s,ACCURACY:\",92.6)\n",
    "print(\"Adam ,epochs=1000,eta=0.15,eps=1e-8,time:1.75s,ACCURACY:\",94.3)"
   ]
  },
  {
   "cell_type": "code",
   "execution_count": null,
   "metadata": {},
   "outputs": [],
   "source": []
  }
 ],
 "metadata": {
  "kernelspec": {
   "display_name": "Python 3",
   "language": "python",
   "name": "python3"
  },
  "language_info": {
   "codemirror_mode": {
    "name": "ipython",
    "version": 3
   },
   "file_extension": ".py",
   "mimetype": "text/x-python",
   "name": "python",
   "nbconvert_exporter": "python",
   "pygments_lexer": "ipython3",
   "version": "3.7.4"
  }
 },
 "nbformat": 4,
 "nbformat_minor": 2
}
